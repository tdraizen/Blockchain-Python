{
 "cells": [
  {
   "cell_type": "code",
   "execution_count": 2,
   "metadata": {},
   "outputs": [
    {
     "data": {
      "text/plain": [
       "True"
      ]
     },
     "execution_count": 2,
     "metadata": {},
     "output_type": "execute_result"
    }
   ],
   "source": [
    "# Set imports\n",
    "import subprocess\n",
    "import json\n",
    "from constants import *\n",
    "from web3 import Web3\n",
    "import os\n",
    "from dotenv import load_dotenv\n",
    "from eth_account import Account\n",
    "from pathlib import Path\n",
    "from bit import wif_to_key, PrivateKeyTestnet, PrivateKey, Key\n",
    "from getpass import getpass\n",
    "\n",
    "load_dotenv()"
   ]
  },
  {
   "cell_type": "code",
   "execution_count": 3,
   "metadata": {},
   "outputs": [],
   "source": [
    "# Set env to call mnemonic\n",
    "mnemonic = os.getenv('mnemonic')"
   ]
  },
  {
   "cell_type": "code",
   "execution_count": 4,
   "metadata": {},
   "outputs": [],
   "source": [
    "def derive_wallets(mnemonic, coin, numderive):\n",
    "    \"\"\"Use the subprocess library to call the php file script from Python\"\"\"\n",
    "    command = f'./derive -g --mnemonic=\"{mnemonic}\" --cols=address,index,path,privkey,pubkey,pubkeyhash,xprv,xpub --coin=\"{coin}\" --numderive=\"{numderive}\" --format=json'\n",
    "    p = subprocess.Popen(command, stdout=subprocess.PIPE, shell=True)\n",
    "    # read data from standard output and err\n",
    "    (output, err) = p.communicate()\n",
    "    # Need to wait for child process to terminate - allows you to run process. \n",
    "    p_status = p.wait()\n",
    "    keys = json.loads(output)\n",
    "    return keys"
   ]
  },
  {
   "cell_type": "code",
   "execution_count": 5,
   "metadata": {},
   "outputs": [],
   "source": [
    "# Add to function \n",
    "coins = [\"eth\", \"btc-test\", \"btc\"]\n",
    "numderive=3"
   ]
  },
  {
   "cell_type": "code",
   "execution_count": 6,
   "metadata": {},
   "outputs": [
    {
     "data": {
      "text/plain": [
       "{'eth': [{'address': '0x0672588f6CFc9b91B44e67Fb9B0239183E0dfA36',\n",
       "   'index': 0,\n",
       "   'path': \"m/44'/60'/0'/0/0\",\n",
       "   'privkey': '0x3f394287ed54d7fe7f1d7fc7befae9b12e1413a52cdd6a11f4f025830b81fb1c',\n",
       "   'pubkey': '03eea780ddfd759ec716e60b8687b02b82f47c0e434213857a9427dd086f3f8efb',\n",
       "   'pubkeyhash': '0faa751027b2fb91c6f4b910e22b8ac3b72d7a0f',\n",
       "   'xprv': 'xprvA3AW3idSEDogFcwra5765L9y8LtzxV9Wz5C434d9Rbwu1H371u9cPYDHCHUrY3TmQPsqzgj6ztY2y5JvooXA1u6TKfbLuqDc33kwSst1VYx',\n",
       "   'xpub': 'xpub6G9rTEAL4bMyU72Kg6e6SU6hgNjVMwsNMJ7eqT2kywUst5NFZSTrwLXm3bndJ3dXKd4A4sN1HTahpciyLpQSprt38yEzXMWp2CyTeRpahk4'},\n",
       "  {'address': '0x42E552Dfe5e3319c2A367899757589352117EB13',\n",
       "   'index': 1,\n",
       "   'path': \"m/44'/60'/0'/0/1\",\n",
       "   'privkey': '0xd08c1a9e40c4cd1d07ff11f89a19ec59c9d9fcf06f8303f82e19954710cd7fcd',\n",
       "   'pubkey': '034a6457f0cfd9b53d34464518fc13f53eda74b4b05fce0ea1c85c6f4294defbae',\n",
       "   'pubkeyhash': '2032d90652faa6a93c8284fbd41425e759b573d7',\n",
       "   'xprv': 'xprvA3AW3idSEDogHQRCGs6pi6ybiTkXs8NQ2AAYmoRmqRjxpGhxwLTQ3JS9R3DpVWYYiSniUkymgNJhQ6Xnc4umYqYbKWTXXMMqBppYuCzkLoy',\n",
       "   'xpub': 'xpub6G9rTEAL4bMyVtVfNtdq5EvLGVb2Gb6FPP69aBqPPmGwh537Usmeb6kdGKBFHy9J65QnuxmtwSAiYGJeV3mUyctntiXZLHv6BHbkqXq1PbC'},\n",
       "  {'address': '0x549cc3A778e39d562a75f87e4535e056F69C65D1',\n",
       "   'index': 2,\n",
       "   'path': \"m/44'/60'/0'/0/2\",\n",
       "   'privkey': '0xd29762c3d8ef39bf270a2ad2361e0e0087ec260e9a376e9d9706a60be3af2678',\n",
       "   'pubkey': '035fdd913c281a66340b24e44d156beac4eb0cf85f446718f9f26daca323af18ab',\n",
       "   'pubkeyhash': '50263d91536a3fce2073be36067ee7f10c124095',\n",
       "   'xprv': 'xprvA3AW3idSEDogLpdwypRxYLQz6X1GMybMdVdhrCkxVq4bqL1HgHjNx3eYF73TtgktsEvTzHuM91c9sbkXRRYRpk6LBFUPbBZmbmryMibL9mZ',\n",
       "   'xpub': 'xpub6G9rTEAL4bMyZJiR5qxxuUMieYqkmSKCziZJebAa4Abai8LSDq3dVqy26P9SzWsqgFRqvzKAbrBhWYDRPmNe1HUXFQrwbtaMmcZvpjJCv2A'}],\n",
       " 'btc-test': [{'address': 'mnSLArqcrySVqR3nWcpCFbTST65s48z8K6',\n",
       "   'index': 0,\n",
       "   'path': \"m/44'/1'/0'/0/0\",\n",
       "   'privkey': 'cV1JfJ9Y5Vfxgj175NovjwZr3MchbzpFRfT8izoYX78QdGj7bkYx',\n",
       "   'pubkey': '02bc0c2751469a5ad77a19834e64f0f91c182672fd233958f500d7557ae51ac46c',\n",
       "   'pubkeyhash': '4be90fd31b36b8b120b82c2bb0f7adb61ab2e7f5',\n",
       "   'xprv': 'tprv8kfHBcEVvqqrguAJY6hBFr11QH9WuuYoCZ3QMFxLGoqdykXEYKygTPtMW9yRVmdjjiJMwJrGc4TSFqV64tEBoSwdgfXwAWQ38geNETRxPke',\n",
       "   'xpub': 'tpubDHMKL2Gk5DXXaNC6RkMmfFf7yJfT5EjhmreBdmzdh5e2pEn1AioGdtWDgGfaUeUaAw7nfAfK5MG8bjtpmfxgg9e7imvyiwECfXf3acvkQ6d'},\n",
       "  {'address': 'n1aCKL7vy3qupLsfjMHiUPwXp2futHmS7L',\n",
       "   'index': 1,\n",
       "   'path': \"m/44'/1'/0'/0/1\",\n",
       "   'privkey': 'cS6XRrogH3QZL2jt9scJ2MC2oxZAMSNw2WFBE6Tdba7XjLBgg8kE',\n",
       "   'pubkey': '0274a9119c7d2a68e791d7bd5d9b5eefb4ae0a202e180f85d581052174ff294ca7',\n",
       "   'pubkeyhash': 'dbff77f2763880242cf92db2025666fb1bf86c2f',\n",
       "   'xprv': 'tprv8kfHBcEVvqqrhWtY2E5jLJddu6qeB5pRfCbMDKupiKHZ5PJp1dG5fbVX28miojixSqvu8ybjV2U3o2tdaPKAxnkum21YgU5MqZhHhQAfVcW',\n",
       "   'xpub': 'tpubDHMKL2Gk5DXXayvKuskKjiHkU8MaLR1LEWC8Vqx88b5wusZae25fr67PCFagB2V8xa9nmwJnZBhzmLZceR1sm4JNn5vWKRzG3rYNxpK8D4m'},\n",
       "  {'address': 'mzkvQWLGWFfED4AvpAEWJU62Mi2Zzktuis',\n",
       "   'index': 2,\n",
       "   'path': \"m/44'/1'/0'/0/2\",\n",
       "   'privkey': 'cVjd4J29NikyJCVGCgRo7RS39uk9xWjNZuRDEMMzZU8Cv7BgzV87',\n",
       "   'pubkey': '026312ba2c2c02fca3252a02c27a1802a3b7a3f99ae41f95b2264a9632a27b0996',\n",
       "   'pubkeyhash': 'd30ea2ff4c99c39be50f5f5abc71a80bfd61fbd4',\n",
       "   'xprv': 'tprv8kfHBcEVvqqrkEcVB7Pzu13HE9BLyerH6CgbhBcCArKd9EMT4dUXAq8D8Fzso2ih8L9wKkGZF5v9tvutCPLZ7HA89fGYC6zTHtWMHe6ejC1',\n",
       "   'xpub': 'tpubDHMKL2Gk5DXXdheH4m4bJQhPoAhH8z3BfWHNyheVb881yicDh2J7MKk5JMrFyHSVaAZBLozqn5MM8ivM6XJzgGrkND2LtEkLkd2XGuBYHKe'}],\n",
       " 'btc': [{'address': '1Cv4knt6cbsrRPvpKQHRbM1L5AVijdSkZo',\n",
       "   'index': 0,\n",
       "   'path': \"m/44'/0'/0'/0/0\",\n",
       "   'privkey': 'L4deU51hpuykPshbG76LtyubVC4JfDGV8XA5ZEh7FrqjMwuyoFZ2',\n",
       "   'pubkey': '03801ad6d9a21d5a9e47a3500c38bbc07eea7792e94e09d2693f1b676ebc9d4de0',\n",
       "   'pubkeyhash': '82b2906aaba9e346b20bb9385feb2585bf48640f',\n",
       "   'xprv': 'xprvA3HCwf9XBTbJvqn34myqqG7wm293AtVKfFydP9oD6uky7pas8NZPUqo4w2TJyj39T4qzHwZtAFLTvX652QrAquaCSmpZ96XhYfNHdRfLCTw',\n",
       "   'xpub': 'xpub6GGZMAgR1q9c9KrWAoWrCQ4gK3yXaMDB2UuEBYCpfFHwzcv1fuse2e7YnJiqEhCZ72xSeqYGvk4JFEvRwuUCMKoQpNpf8yG63hUVGEC7UW2'},\n",
       "  {'address': '16fkCnQAJdPCSexqjmUcW2FY4ydcMjdBFZ',\n",
       "   'index': 1,\n",
       "   'path': \"m/44'/0'/0'/0/1\",\n",
       "   'privkey': 'L2YjfysoGnnYDQxkvGE2xTdeD5b2QHfAt9gcSjSZdHCSn8FcpLHc',\n",
       "   'pubkey': '0376f5b6884907b3d7936df21369325cd3d1f1bcc4cd10898a0c48a46b16ae8544',\n",
       "   'pubkeyhash': '3e2c7fe878e7e947a5662820838675a01165affe',\n",
       "   'xprv': 'xprvA3HCwf9XBTbK1C5jHu12xzgxRtV5NCDeTZHTqEd2oLWEguaKCxxx4UoBn4cHzVFnyLYWCv6Qnw58SPK7SbFX77bSHK5pKD2Wvu9ZNVXyVcK',\n",
       "   'xpub': 'xpub6GGZMAgR1q9cDgACPvY3L8dgyvKZmewVpnD4dd2eMg3DZhuTkWHCcH7fdMHBVK7KiTW7VLCLyQSFNyFvPgSn1sQFQP6pPN9DsiWxxGbKE6d'},\n",
       "  {'address': '17khVsxCzhsgkhkSLv7L7TVL4RHHWUGUK2',\n",
       "   'index': 2,\n",
       "   'path': \"m/44'/0'/0'/0/2\",\n",
       "   'privkey': 'KwbcsbmkmcJhQ86YxS8ZXbDU8pAQHabXckbNHix1rZnKndxKXDbT',\n",
       "   'pubkey': '02a2adc7d5f22fe9307071dfe810edf070d5859cde53c9b75c2361b8683bc981b0',\n",
       "   'pubkeyhash': '4a14726f1f6ec394fb34788dfee2d2ec50413aed',\n",
       "   'xprv': 'xprvA3HCwf9XBTbK45QuqzsecVEFuGgwsYMU5Z5XtXqyfFHq32ACNVoxxSkkXHdm9kGQnnyBopPD9fgB9JcN6ggnVhaBao6gQsvrH8KeTScjr2x',\n",
       "   'xpub': 'xpub6GGZMAgR1q9cGZVNx2QeydAzTJXSH15KSn18gvFbDapoupVLv38DWF5ENZpD7fH9hJyi5SXz8R4VKUsPWM1PZC24nSo51j1WAmwAZRPrJGP'}]}"
      ]
     },
     "execution_count": 6,
     "metadata": {},
     "output_type": "execute_result"
    }
   ],
   "source": [
    "# Call the function iterating through the coins using dict comprehension\n",
    "{coin: derive_wallets(os.getenv('mnemonic'), coin, numderive) for coin in coins}"
   ]
  },
  {
   "cell_type": "code",
   "execution_count": 37,
   "metadata": {},
   "outputs": [
    {
     "data": {
      "text/plain": [
       "'0x0672588f6CFc9b91B44e67Fb9B0239183E0dfA36'"
      ]
     },
     "execution_count": 37,
     "metadata": {},
     "output_type": "execute_result"
    }
   ],
   "source": [
    "keys['eth'][0]['address']"
   ]
  },
  {
   "cell_type": "code",
   "execution_count": 8,
   "metadata": {},
   "outputs": [],
   "source": [
    "# Alternative Way to run function\n",
    "def derive_wallets2(mnemonic, coin, numderive):\n",
    "    \"\"\"Use the subprocess library to call the php file script from Python\"\"\"\n",
    "    command2 = f'php ./hd-wallet-derive/hd-wallet-derive.php -g --mnemonic=\"{mnemonic}\" --cols=address,index,path,privkey,pubkey,pubkeyhash,xprv,xpub --numderive=\"{numderive}\" --coin=\"{coin}\" --format=json'\n",
    "    p = subprocess.Popen(command2, stdout=subprocess.PIPE, shell=True)\n",
    "    (output, err) = p.communicate()\n",
    "    p_status = p.wait()\n",
    "    keys = json.loads(output)\n",
    "    return  keys\n",
    "\n",
    "coins = {\"btc\", \"eth\", \"btc-test\"}\n",
    "numderive = 3\n",
    "keys = {}\n",
    "for coin in coins:\n",
    "    keys[coin]= derive_wallets2(os.getenv('mnemonic'), coin, numderive=3)\n",
    "    "
   ]
  },
  {
   "cell_type": "code",
   "execution_count": 9,
   "metadata": {},
   "outputs": [],
   "source": [
    "keys = {}\n",
    "for coin in coins:\n",
    "    keys[coin]= derive_wallets2(os.getenv('mnemonic'), coin, numderive)"
   ]
  },
  {
   "cell_type": "code",
   "execution_count": 38,
   "metadata": {},
   "outputs": [],
   "source": [
    "#print(json.dumps(keys, indent=4, sort_keys=True))"
   ]
  },
  {
   "cell_type": "code",
   "execution_count": 39,
   "metadata": {},
   "outputs": [
    {
     "data": {
      "text/plain": [
       "'mnSLArqcrySVqR3nWcpCFbTST65s48z8K6'"
      ]
     },
     "execution_count": 39,
     "metadata": {},
     "output_type": "execute_result"
    }
   ],
   "source": [
    "# Need address to prefund an account on the BTC Transaction Below\n",
    "keys['btc-test'][0]['address']"
   ]
  },
  {
   "cell_type": "code",
   "execution_count": 25,
   "metadata": {},
   "outputs": [
    {
     "data": {
      "text/plain": [
       "'cV1JfJ9Y5Vfxgj175NovjwZr3MchbzpFRfT8izoYX78QdGj7bkYx'"
      ]
     },
     "execution_count": 25,
     "metadata": {},
     "output_type": "execute_result"
    }
   ],
   "source": [
    "keys['btc-test'][0]['privkey']"
   ]
  },
  {
   "cell_type": "code",
   "execution_count": 26,
   "metadata": {},
   "outputs": [
    {
     "data": {
      "text/plain": [
       "[0, 1, 4, 9, 16, 25, 36, 49, 64, 81]"
      ]
     },
     "execution_count": 26,
     "metadata": {},
     "output_type": "execute_result"
    }
   ],
   "source": [
    "# Sanity Check\n",
    "[x**2 for x in range(10)]"
   ]
  },
  {
   "cell_type": "code",
   "execution_count": 27,
   "metadata": {},
   "outputs": [
    {
     "data": {
      "text/plain": [
       "{0: 0, 1: 1, 2: 4, 3: 9, 4: 16, 5: 25, 6: 36, 7: 49, 8: 64, 9: 81}"
      ]
     },
     "execution_count": 27,
     "metadata": {},
     "output_type": "execute_result"
    }
   ],
   "source": [
    "# Dict Comprehension\n",
    "{x:x**2 for x in range(10)}"
   ]
  },
  {
   "cell_type": "code",
   "execution_count": 17,
   "metadata": {},
   "outputs": [],
   "source": [
    "# Spend time on list / dict comprehension\n"
   ]
  },
  {
   "cell_type": "code",
   "execution_count": 18,
   "metadata": {},
   "outputs": [],
   "source": [
    "#Activate w3 for Ether Transactions\n",
    "w3 = Web3(Web3.HTTPProvider(\"http://127.0.0.1:8545\"))"
   ]
  },
  {
   "cell_type": "code",
   "execution_count": 19,
   "metadata": {},
   "outputs": [
    {
     "name": "stdout",
     "output_type": "stream",
     "text": [
      "\"0x3f394287ed54d7fe7f1d7fc7befae9b12e1413a52cdd6a11f4f025830b81fb1c\"\n",
      "\"cV1JfJ9Y5Vfxgj175NovjwZr3MchbzpFRfT8izoYX78QdGj7bkYx\"\n"
     ]
    }
   ],
   "source": [
    "eth_privatekey = keys['eth'][0]['privkey']\n",
    "btc_privatekey = keys['btc-test'][0]['privkey']\n",
    "\n",
    "print(json.dumps(eth_privatekey, indent=4, sort_keys=True))\n",
    "print(json.dumps(btc_privatekey, indent=4, sort_keys=True))"
   ]
  },
  {
   "cell_type": "code",
   "execution_count": 20,
   "metadata": {},
   "outputs": [],
   "source": [
    "# Create 3 Functions 1 of 3\n",
    "def priv_key_to_account(coin, priv_key):\n",
    "    '''Convert the privkey string in a child key to an account object that bit or web3.py can use'''\n",
    "    if coin == ETH:\n",
    "        return Account.privateKeyToAccount(priv_key)\n",
    "    if coin == BTCTEST:\n",
    "        return PrivateKeyTestnet(priv_key)\n",
    "eth_account = priv_key_to_account(ETH,eth_privatekey)\n",
    "btc_account = priv_key_to_account(BTCTEST,btc_privatekey)    "
   ]
  },
  {
   "cell_type": "code",
   "execution_count": 21,
   "metadata": {},
   "outputs": [],
   "source": [
    "# Create Function 2 of 3\n",
    "def create_tx(coin, account, recipient, amount):\n",
    "    \"\"\"create the raw, unsigned transaction that contains all metadata needed to transact\"\"\"\n",
    "    if coin ==ETH:\n",
    "        gasEstimate = w3.eth.estimateGas(\n",
    "            {\"from\": account.address, \"to\": recipient, \"value\": amount})\n",
    "        return{\n",
    "            \"to\": recipient,\n",
    "            \"from\": account.address,\n",
    "            \"value\": amount,\n",
    "            \"gasPrice\": w3.eth.gasPrice,\n",
    "            \"gas\": gasEstimate,\n",
    "            \"nonce\": w3.eth.getTransactionCount(account.address)\n",
    "        }\n",
    "    if coin == BTCTEST:\n",
    "        return PrivateKeyTestnet.prepare_transaction(account.address, [(recipient, amount, BTC)])"
   ]
  },
  {
   "cell_type": "code",
   "execution_count": 22,
   "metadata": {},
   "outputs": [],
   "source": [
    "# Create Function 3 of 3\n",
    "def send_tx(coin, account, recipient, amount):\n",
    "    \"\"\"call create_trx, sign the transaction, then send it to the designated network\"\"\"\n",
    "    if coin =='eth':\n",
    "        txn = create_tx(coin, account, recipient, amount)\n",
    "        signed_txn = w3.eth.account.signTransaction(txn)\n",
    "        result = w3.eth.sendRawTransaction(signed_txn.rawTransaction)\n",
    "        print(result.hex())\n",
    "        return result.hex()\n",
    "\n",
    "    else:\n",
    "        tx_btctest= create_tx(coin, account, recipient, amount)\n",
    "        sign_tx_btctest = account.sign_transaction(tx_btctest)\n",
    "        from bit.network import NetworkAPI\n",
    "        NetworkAPI.broadcast_tx_testnet(sign_tx_btctest)       \n",
    "        return sign_tx_btctest\n",
    "    "
   ]
  },
  {
   "cell_type": "code",
   "execution_count": 23,
   "metadata": {},
   "outputs": [
    {
     "name": "stdout",
     "output_type": "stream",
     "text": [
      "<eth_account.signers.local.LocalAccount object at 0x106f76a10>\n",
      "<PrivateKeyTestnet: mnSLArqcrySVqR3nWcpCFbTST65s48z8K6>\n"
     ]
    }
   ],
   "source": [
    "# Set up Priv Keys for Transacting Ether and Bit Test Accounts\n",
    "print(eth_account)\n",
    "print(btc_account)\n"
   ]
  },
  {
   "cell_type": "code",
   "execution_count": 24,
   "metadata": {},
   "outputs": [
    {
     "data": {
      "text/plain": [
       "<PrivateKeyTestnet: msS23qy5RdK7CWQS2yFoRGDewA6RbFZYhh>"
      ]
     },
     "execution_count": 24,
     "metadata": {},
     "output_type": "execute_result"
    }
   ],
   "source": [
    "# Get Regenerated Keys for BTC Test\n",
    "priv_key_to_account('btc-test', 'L4deU51hpuykPshbG76LtyubVC4JfDGV8XA5ZEh7FrqjMwuyoFZ2')"
   ]
  },
  {
   "cell_type": "markdown",
   "metadata": {},
   "source": [
    "# Generating Transactions BTC"
   ]
  },
  {
   "cell_type": "code",
   "execution_count": 28,
   "metadata": {},
   "outputs": [
    {
     "data": {
      "text/plain": [
       "'{\"unspents\":[{\"amount\":1065800,\"confirmations\":0,\"script\":\"76a9144be90fd31b36b8b120b82c2bb0f7adb61ab2e7f588ac\",\"txid\":\"a9d933bf4746e13aa61388c201bf0b457b1933b7a06aa6566ad31465e649a62c\",\"txindex\":1,\"type\":\"p2pkh\",\"vsize\":148,\"segwit\":false},{\"amount\":10000,\"confirmations\":974,\"script\":\"76a9144be90fd31b36b8b120b82c2bb0f7adb61ab2e7f588ac\",\"txid\":\"c6d38437fd8622e14e7097f0e8f6e136c245f26d4349dbf248402210f494515d\",\"txindex\":0,\"type\":\"p2pkh\",\"vsize\":148,\"segwit\":false},{\"amount\":10000,\"confirmations\":976,\"script\":\"76a9144be90fd31b36b8b120b82c2bb0f7adb61ab2e7f588ac\",\"txid\":\"588a6af4c5bbae7645e2f1ef336393874514633c1869ca2d044da59b6c5f648b\",\"txindex\":0,\"type\":\"p2pkh\",\"vsize\":148,\"segwit\":false},{\"amount\":10000,\"confirmations\":976,\"script\":\"76a9144be90fd31b36b8b120b82c2bb0f7adb61ab2e7f588ac\",\"txid\":\"cefb29382bc99e7d982c5cd2c741d61d27b5f33f3f55c90498b4c9609d659050\",\"txindex\":0,\"type\":\"p2pkh\",\"vsize\":148,\"segwit\":false},{\"amount\":1000,\"confirmations\":976,\"script\":\"76a9144be90fd31b36b8b120b82c2bb0f7adb61ab2e7f588ac\",\"txid\":\"e421e59d75e547ba3f2d94b7be1da22cf1fbb255663c12f3ffa07a9fdcced6d1\",\"txindex\":0,\"type\":\"p2pkh\",\"vsize\":148,\"segwit\":false},{\"amount\":10000,\"confirmations\":976,\"script\":\"76a9144be90fd31b36b8b120b82c2bb0f7adb61ab2e7f588ac\",\"txid\":\"ebd1fb01912a862bf7e82ddf4634d34ef2522a49400aef1d0aeadb84b9bba59e\",\"txindex\":0,\"type\":\"p2pkh\",\"vsize\":148,\"segwit\":false},{\"amount\":62984,\"confirmations\":977,\"script\":\"76a9144be90fd31b36b8b120b82c2bb0f7adb61ab2e7f588ac\",\"txid\":\"0547dec6acbf42427037633431e93fe5c288b5cec25ee219626c969952440911\",\"txindex\":2,\"type\":\"p2pkh\",\"vsize\":148,\"segwit\":false}],\"outputs\":[[\"msS23qy5RdK7CWQS2yFoRGDewA6RbFZYhh\",10000],[\"mnSLArqcrySVqR3nWcpCFbTST65s48z8K6\",1037244]]}'"
      ]
     },
     "execution_count": 28,
     "metadata": {},
     "output_type": "execute_result"
    }
   ],
   "source": [
    "# Create Transaction in BTC Test - \n",
    "create_tx('btc-test',btc_account, 'msS23qy5RdK7CWQS2yFoRGDewA6RbFZYhh', .0001)"
   ]
  },
  {
   "cell_type": "code",
   "execution_count": 29,
   "metadata": {},
   "outputs": [
    {
     "data": {
      "text/plain": [
       "'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'"
      ]
     },
     "execution_count": 29,
     "metadata": {},
     "output_type": "execute_result"
    }
   ],
   "source": [
    "# Send Transaction - \n",
    "send_tx('btc-test',btc_account,'msS23qy5RdK7CWQS2yFoRGDewA6RbFZYhh',0.000001)"
   ]
  },
  {
   "cell_type": "code",
   "execution_count": 34,
   "metadata": {},
   "outputs": [
    {
     "data": {
      "text/plain": [
       "'{\"unspents\":[{\"amount\":1047144,\"confirmations\":1,\"script\":\"76a9144be90fd31b36b8b120b82c2bb0f7adb61ab2e7f588ac\",\"txid\":\"ef512b3b925ae7729627338951d0ef2fed8a1720a117764a852723dec6c4bb50\",\"txindex\":1,\"type\":\"p2pkh\",\"vsize\":148,\"segwit\":false}],\"outputs\":[[\"msS23qy5RdK7CWQS2yFoRGDewA6RbFZYhh\",1000000],[\"mnSLArqcrySVqR3nWcpCFbTST65s48z8K6\",22284]]}'"
      ]
     },
     "execution_count": 34,
     "metadata": {},
     "output_type": "execute_result"
    }
   ],
   "source": [
    "# Create Transaction in BTC Test - Send Back To Test Net\n",
    "create_tx('btc-test',btc_account, 'msS23qy5RdK7CWQS2yFoRGDewA6RbFZYhh', 0.01)"
   ]
  },
  {
   "cell_type": "code",
   "execution_count": 35,
   "metadata": {},
   "outputs": [
    {
     "data": {
      "text/plain": [
       "'010000000150bbc4c6de2327854a7617a120178aed2fefd0518933279672e75a923b2b51ef010000006a473044022018b2906b2604d8226d1ebc5f99298887d581db1457681e519c31b9a2ac33f93f02202a19dc8f31d59cbf2f808c5b27a6a07b28b32e0fbab311b8ffd0a2aed4199f6e012102bc0c2751469a5ad77a19834e64f0f91c182672fd233958f500d7557ae51ac46cffffffff0240420f00000000001976a9149f9a7abd600c0caa03983a77c8c3df8e062cb2fa88ac0c570000000000001976a9144be90fd31b36b8b120b82c2bb0f7adb61ab2e7f588ac00000000'"
      ]
     },
     "execution_count": 35,
     "metadata": {},
     "output_type": "execute_result"
    }
   ],
   "source": [
    "# Send Transaction - Send Back To Test Net\n",
    "send_tx('btc-test',btc_account,'mv4rnyY3Su5gjcDNzbMLKBQkBicCtHUtFB',0.01)\n"
   ]
  },
  {
   "cell_type": "markdown",
   "metadata": {},
   "source": [
    "# Generating Transactions in ETHER"
   ]
  },
  {
   "cell_type": "code",
   "execution_count": 41,
   "metadata": {},
   "outputs": [
    {
     "name": "stdout",
     "output_type": "stream",
     "text": [
      "0x3f394287ed54d7fe7f1d7fc7befae9b12e1413a52cdd6a11f4f025830b81fb1c\n",
      "0x0672588f6CFc9b91B44e67Fb9B0239183E0dfA36\n"
     ]
    },
    {
     "name": "stdin",
     "output_type": "stream",
     "text": [
      "Enter keystore password:  ············\n"
     ]
    }
   ],
   "source": [
    "from web3.middleware import geth_poa_middleware\n",
    "#w3.middleware_onion.inject(geth_poa_middleware, layer=0)\n",
    "\n",
    "private_key = os.getenv(\"Private_Key\")\n",
    "print(keys['eth'][0]['privkey'])\n",
    "print(keys['eth'][0]['address'])\n",
    "#w3.eth.blockNumber\n",
    "with open(\n",
    "    Path(\"UTC--2020-04-28T00-36-13.498Z--276c7d6a499978a9060723e484433e9693c853fa\")\n",
    ")as keyfile:\n",
    "    encrypted_key = keyfile.read()\n",
    "    private_key = w3.eth.account.decrypt(encrypted_key, getpass(\"Enter keystore password: \"))"
   ]
  },
  {
   "cell_type": "code",
   "execution_count": 42,
   "metadata": {},
   "outputs": [],
   "source": [
    "from web3 import Web3, HTTPProvider\n",
    "#w3.eth.blockNumber\n",
    "\n"
   ]
  },
  {
   "cell_type": "code",
   "execution_count": 43,
   "metadata": {},
   "outputs": [
    {
     "data": {
      "text/plain": [
       "<eth_account.signers.local.LocalAccount at 0x1078ad210>"
      ]
     },
     "execution_count": 43,
     "metadata": {},
     "output_type": "execute_result"
    }
   ],
   "source": [
    "# Get Regenerated Key for ETHER\n",
    "priv_key_to_account('eth', '0x3f394287ed54d7fe7f1d7fc7befae9b12e1413a52cdd6a11f4f025830b81fb1c')"
   ]
  },
  {
   "cell_type": "code",
   "execution_count": 50,
   "metadata": {},
   "outputs": [],
   "source": [
    "# Create Transaction in ETHER - problem funding the account\n",
    "create_tx(ETH,eth_account, '0x0672588f6CFc9b91B44e67Fb9B0239183E0dfA36', 1.0)"
   ]
  },
  {
   "cell_type": "code",
   "execution_count": 52,
   "metadata": {},
   "outputs": [],
   "source": [
    "# Send Transaction in ETHER - problem funding the account\n",
    "create_tx(ETH,eth_account, '0x0672588f6CFc9b91B44e67Fb9B0239183E0dfA36', 1.0)"
   ]
  },
  {
   "cell_type": "code",
   "execution_count": null,
   "metadata": {},
   "outputs": [],
   "source": []
  }
 ],
 "metadata": {
  "kernelspec": {
   "display_name": "Python 3",
   "language": "python",
   "name": "python3"
  },
  "language_info": {
   "codemirror_mode": {
    "name": "ipython",
    "version": 3
   },
   "file_extension": ".py",
   "mimetype": "text/x-python",
   "name": "python",
   "nbconvert_exporter": "python",
   "pygments_lexer": "ipython3",
   "version": "3.7.7"
  }
 },
 "nbformat": 4,
 "nbformat_minor": 4
}
